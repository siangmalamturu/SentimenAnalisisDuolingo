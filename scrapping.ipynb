{
 "cells": [
  {
   "cell_type": "code",
   "execution_count": 1,
   "id": "2c36b63f-60df-498e-ad04-bb7b363570bc",
   "metadata": {},
   "outputs": [
    {
     "name": "stdout",
     "output_type": "stream",
     "text": [
      "Defaulting to user installation because normal site-packages is not writeable\n",
      "Collecting google-play-scraper\n",
      "  Downloading google_play_scraper-1.2.7-py3-none-any.whl.metadata (50 kB)\n",
      "Requirement already satisfied: pandas in c:\\programdata\\anaconda3\\lib\\site-packages (2.2.2)\n",
      "Requirement already satisfied: numpy>=1.26.0 in c:\\programdata\\anaconda3\\lib\\site-packages (from pandas) (1.26.4)\n",
      "Requirement already satisfied: python-dateutil>=2.8.2 in c:\\programdata\\anaconda3\\lib\\site-packages (from pandas) (2.9.0.post0)\n",
      "Requirement already satisfied: pytz>=2020.1 in c:\\programdata\\anaconda3\\lib\\site-packages (from pandas) (2024.1)\n",
      "Requirement already satisfied: tzdata>=2022.7 in c:\\programdata\\anaconda3\\lib\\site-packages (from pandas) (2023.3)\n",
      "Requirement already satisfied: six>=1.5 in c:\\programdata\\anaconda3\\lib\\site-packages (from python-dateutil>=2.8.2->pandas) (1.16.0)\n",
      "Downloading google_play_scraper-1.2.7-py3-none-any.whl (28 kB)\n",
      "Installing collected packages: google-play-scraper\n",
      "Successfully installed google-play-scraper-1.2.7\n"
     ]
    }
   ],
   "source": [
    "!pip install google-play-scraper pandas"
   ]
  },
  {
   "cell_type": "code",
   "execution_count": 2,
   "id": "cc6b66c7-6a70-4ae3-b669-3b812204a9d6",
   "metadata": {},
   "outputs": [],
   "source": [
    "import pandas as pd\n",
    "from google_play_scraper import Sort, reviews_all # Pastikan Anda sudah menginstal: pip install google-play-scraper\n",
    "import time\n",
    "import datetime"
   ]
  },
  {
   "cell_type": "code",
   "execution_count": 3,
   "id": "b5871d90-3973-4cdf-9fb7-202cbe00c684",
   "metadata": {},
   "outputs": [
    {
     "name": "stdout",
     "output_type": "stream",
     "text": [
      "Memulai proses scraping ulasan Duolingo dari Google Play Store...\n",
      "Mengumpulkan ulasan untuk App ID: com.duolingo\n",
      "Target minimal ulasan: 10000\n",
      "Memfilter berdasarkan bahasa: id\n",
      "Terkumpul 1000 ulasan...\n",
      "Terkumpul 2000 ulasan...\n",
      "Terkumpul 3000 ulasan...\n",
      "Terkumpul 4000 ulasan...\n",
      "Terkumpul 5000 ulasan...\n",
      "Terkumpul 6000 ulasan...\n",
      "Terkumpul 7000 ulasan...\n",
      "Terkumpul 8000 ulasan...\n",
      "Terkumpul 9000 ulasan...\n",
      "Terkumpul 10000 ulasan...\n",
      "\n",
      "Proses scraping selesai. Total ulasan terkumpul: 10000\n",
      "Data ulasan berhasil disimpan ke 'duolingo_reviews.csv'\n",
      "\n",
      "Berikut 5 baris pertama data yang tersimpan:\n",
      "                                             content  score\n",
      "0  bagus dan sangat membantu sangat di rekomendas...      5\n",
      "1  seru sekali jadi bikin saya bisa belajar bahas...      5\n",
      "2    apk ini bagus pelajaran yang di dapatkan detail      5\n",
      "3           saya beri 4 Strar duluh soal Belum lekap      4\n",
      "4  aplikasi nya cocok untuk orang yang mau belaja...      5\n",
      "\n",
      "Jumlah total baris data yang tersimpan: 10000\n"
     ]
    }
   ],
   "source": [
    "print(\"Memulai proses scraping ulasan Duolingo dari Google Play Store...\")\n",
    "\n",
    "# ID Aplikasi Duolingo\n",
    "app_id = 'com.duolingo'\n",
    "\n",
    "# Jumlah ulasan minimal yang ingin dikumpulkan\n",
    "min_reviews_needed = 10000\n",
    "\n",
    "# Bahasa ulasan yang ingin difokuskan (misal: Bahasa Indonesia)\n",
    "# Jika 10,000 tidak tercapai dalam 1 bahasa, Anda bisa mencoba bahasa lain atau menghapus filter bahasa.\n",
    "lang_filter = 'id' # 'id' untuk Bahasa Indonesia. Hapus baris ini untuk semua bahasa.\n",
    "\n",
    "# List untuk menyimpan hasil scraping\n",
    "all_reviews = []\n",
    "\n",
    "# Menggunakan reviews_all untuk mendapatkan semua ulasan atau sampai batas yang ditentukan\n",
    "# Proses ini bisa memakan waktu tergantung jumlah ulasan dan koneksi internet Anda.\n",
    "# Perhatikan rate limit jika Anda mencoba mengumpulkan terlalu banyak terlalu cepat.\n",
    "try:\n",
    "    # `reviews_all` mencoba mengumpulkan semua ulasan.\n",
    "    # Jika volume sangat besar, ini akan berjalan terus.\n",
    "    # Kita bisa tambahkan limit manual jika ingin mengontrol.\n",
    "\n",
    "    # Untuk Duolingo, ada jutaan ulasan, jadi kita perlu batas agar tidak berjalan selamanya.\n",
    "    # Kita akan ambil 10,000 ulasan (sesuai target minimal) dari yang paling relevan (Sort.NEWEST atau Sort.RATING)\n",
    "    # Sort.NEWEST bisa memberikan ulasan terbaru. Sort.RATING bisa memberikan campuran.\n",
    "    # Untuk tujuan sentimen, Sort.NEWEST atau Sort.RRATING (tingkat relevansi) bisa bagus.\n",
    "\n",
    "    print(f\"Mengumpulkan ulasan untuk App ID: {app_id}\")\n",
    "    print(f\"Target minimal ulasan: {min_reviews_needed}\")\n",
    "    if lang_filter:\n",
    "        print(f\"Memfilter berdasarkan bahasa: {lang_filter}\")\n",
    "\n",
    "    # Mengambil ulasan. Parameter `lang` bisa diatur.\n",
    "    # Menggunakan generator untuk efisiensi memori\n",
    "    count = 0\n",
    "    for r in reviews_all(\n",
    "        app_id,\n",
    "        lang=lang_filter if lang_filter else 'en', # Menggunakan 'en' jika lang_filter kosong atau jika tidak ada filter.\n",
    "        country='id', # Optional: Fokus negara, bisa membantu filter bahasa jika lang tidak cukup\n",
    "        sort=Sort.NEWEST # Urutkan dari yang terbaru\n",
    "    ):\n",
    "        all_reviews.append(r)\n",
    "        count += 1\n",
    "        if count % 1000 == 0: # Print progress setiap 1000 ulasan\n",
    "            print(f\"Terkumpul {count} ulasan...\")\n",
    "\n",
    "        if count >= min_reviews_needed: # Hentikan jika sudah mencapai target minimal\n",
    "            break\n",
    "\n",
    "        time.sleep(0.1) # Jeda singkat untuk menghindari rate limit\n",
    "\n",
    "except Exception as e:\n",
    "    print(f\"Terjadi kesalahan saat scraping: {e}\")\n",
    "    print(f\"Total ulasan yang berhasil terkumpul sebelum error: {len(all_reviews)}\")\n",
    "\n",
    "print(f\"\\nProses scraping selesai. Total ulasan terkumpul: {len(all_reviews)}\")\n",
    "\n",
    "# Konversi ke DataFrame\n",
    "df_reviews = pd.DataFrame(all_reviews)\n",
    "\n",
    "# Cek apakah ada data\n",
    "if not df_reviews.empty:\n",
    "    # Memilih kolom yang relevan: 'content' (teks ulasan) dan 'score' (rating)\n",
    "    df_reviews_selected = df_reviews[['content', 'score']]\n",
    "\n",
    "    # Simpan ke file CSV\n",
    "    # Pastikan file CSV ini akan digunakan sebagai input di notebook analisis sentimen utama\n",
    "    output_filename = 'duolingo_reviews.csv'\n",
    "    df_reviews_selected.to_csv(output_filename, index=False)\n",
    "    print(f\"Data ulasan berhasil disimpan ke '{output_filename}'\")\n",
    "    print(\"\\nBerikut 5 baris pertama data yang tersimpan:\")\n",
    "    print(df_reviews_selected.head())\n",
    "    print(f\"\\nJumlah total baris data yang tersimpan: {len(df_reviews_selected)}\")\n",
    "else:\n",
    "    print(\"Tidak ada ulasan yang terkumpul.\")"
   ]
  },
  {
   "cell_type": "code",
   "execution_count": 4,
   "id": "8f43e454-bee5-4ebd-9d8e-955acc57b65f",
   "metadata": {},
   "outputs": [
    {
     "name": "stdout",
     "output_type": "stream",
     "text": [
      "Tampilan 5 baris pertama dataset:\n",
      "                                             content  score\n",
      "0  bagus dan sangat membantu sangat di rekomendas...      5\n",
      "1  seru sekali jadi bikin saya bisa belajar bahas...      5\n",
      "2    apk ini bagus pelajaran yang di dapatkan detail      5\n",
      "3           saya beri 4 Strar duluh soal Belum lekap      4\n",
      "4  aplikasi nya cocok untuk orang yang mau belaja...      5\n",
      "\n",
      "==================================================\n",
      "\n"
     ]
    }
   ],
   "source": [
    "# Muat dataset hasil scraping\n",
    "df = pd.read_csv('duolingo_reviews.csv')\n",
    "\n",
    "print(\"Tampilan 5 baris pertama dataset:\")\n",
    "print(df.head())\n",
    "print(\"\\n\" + \"=\"*50 + \"\\n\")"
   ]
  },
  {
   "cell_type": "code",
   "execution_count": null,
   "id": "d9b8f744-67ae-46dc-92e9-b44d336757e8",
   "metadata": {},
   "outputs": [],
   "source": []
  },
  {
   "cell_type": "code",
   "execution_count": null,
   "id": "5929488e-2776-4525-ad3a-406a138b20f4",
   "metadata": {},
   "outputs": [],
   "source": []
  },
  {
   "cell_type": "code",
   "execution_count": null,
   "id": "5c1a6d06-ad76-43bc-a8cf-682888413cc2",
   "metadata": {},
   "outputs": [],
   "source": []
  }
 ],
 "metadata": {
  "kernelspec": {
   "display_name": "Python 3 (ipykernel)",
   "language": "python",
   "name": "python3"
  },
  "language_info": {
   "codemirror_mode": {
    "name": "ipython",
    "version": 3
   },
   "file_extension": ".py",
   "mimetype": "text/x-python",
   "name": "python",
   "nbconvert_exporter": "python",
   "pygments_lexer": "ipython3",
   "version": "3.12.7"
  }
 },
 "nbformat": 4,
 "nbformat_minor": 5
}
